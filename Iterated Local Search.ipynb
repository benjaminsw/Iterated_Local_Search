{
 "cells": [
  {
   "cell_type": "markdown",
   "metadata": {},
   "source": [
    "#Iterated Local Search"
   ]
  },
  {
   "cell_type": "markdown",
   "metadata": {},
   "source": [
    "This algorithm has resemblances with algorithm 1. However, instead\n",
    "of starting each iteration from a completely random solution, the starting solution is a\n",
    "‘perturbation’ of the current solution. This perturbation is generally stronger than the\n",
    "operator used for hill-climbing. For example, you can use a 2-flip or 3-flip operator for a\n",
    "binary representation, when your hill-climbing uses 1-flip moves. Again you have a\n",
    "parameter num_iter, which determines how many perturbations you will attempt. You\n",
    "need to keep record of the best solution found. This will be the output of the algorithm. "
   ]
  },
  {
   "cell_type": "code",
   "execution_count": 25,
   "metadata": {
    "collapsed": false
   },
   "outputs": [
    {
     "data": {
      "text/html": [
       "<div>\n",
       "<table border=\"1\" class=\"dataframe\">\n",
       "  <thead>\n",
       "    <tr style=\"text-align: right;\">\n",
       "      <th></th>\n",
       "      <th>no.</th>\n",
       "      <th>value</th>\n",
       "      <th>weight</th>\n",
       "    </tr>\n",
       "  </thead>\n",
       "  <tbody>\n",
       "    <tr>\n",
       "      <th>0</th>\n",
       "      <td>1</td>\n",
       "      <td>835</td>\n",
       "      <td>735</td>\n",
       "    </tr>\n",
       "    <tr>\n",
       "      <th>1</th>\n",
       "      <td>2</td>\n",
       "      <td>1670</td>\n",
       "      <td>1470</td>\n",
       "    </tr>\n",
       "    <tr>\n",
       "      <th>2</th>\n",
       "      <td>3</td>\n",
       "      <td>3340</td>\n",
       "      <td>2940</td>\n",
       "    </tr>\n",
       "    <tr>\n",
       "      <th>3</th>\n",
       "      <td>4</td>\n",
       "      <td>1087</td>\n",
       "      <td>987</td>\n",
       "    </tr>\n",
       "    <tr>\n",
       "      <th>4</th>\n",
       "      <td>5</td>\n",
       "      <td>1087</td>\n",
       "      <td>987</td>\n",
       "    </tr>\n",
       "  </tbody>\n",
       "</table>\n",
       "</div>"
      ],
      "text/plain": [
       "   no.  value  weight\n",
       "0    1    835     735\n",
       "1    2   1670    1470\n",
       "2    3   3340    2940\n",
       "3    4   1087     987\n",
       "4    5   1087     987"
      ]
     },
     "execution_count": 25,
     "metadata": {},
     "output_type": "execute_result"
    }
   ],
   "source": [
    "import urllib2  # the lib that handles the url stuff\n",
    "import numpy as np\n",
    "import pandas as pd\n",
    "#from random import randint\n",
    "import random\n",
    "\n",
    "input_data = []\n",
    "url = \"http://www.cs.stir.ac.uk/~goc/source/hard200.txt\"\n",
    "data = urllib2.urlopen(url) # it's a file like object and works just like a file\n",
    "for line in data: # files are iterable\n",
    "    input_data.append(map(int,line.split()))\n",
    "\n",
    "instance_number = input_data.pop(0)[0]\n",
    "max_capacity = input_data.pop()[0]\n",
    "df = pd.DataFrame(input_data, columns=['no.', 'value', 'weight'])\n",
    "df.head()"
   ]
  },
  {
   "cell_type": "code",
   "execution_count": 26,
   "metadata": {
    "collapsed": true
   },
   "outputs": [],
   "source": [
    "#function to generate a binary representation of the items selected. \n",
    "def binrep(n,r):\n",
    "    return \"{0:0{1}b}\".format(n, r)\n",
    "#random.randint(1, 2**instance_number)\n",
    "weights = np.array(df[\"weight\"])   \n",
    "values = np.array(df[\"value\"])"
   ]
  },
  {
   "cell_type": "code",
   "execution_count": 33,
   "metadata": {
    "collapsed": false
   },
   "outputs": [
    {
     "name": "stdout",
     "output_type": "stream",
     "text": [
      "[124386, 125272, 127014, 127404, 130015, 131189, 131698, 131735]\n",
      "best value =  131735\n"
     ]
    }
   ],
   "source": [
    "best_value = 0\n",
    "num_inter = 1000 #how many random points we use to initially use for search\n",
    "n_flip = 2\n",
    "lst_best_value = []\n",
    "items_selected = np.array(map(int,binrep(random.randint(1, 2**instance_number), instance_number)))\n",
    "while num_inter >0:\n",
    "    max_eval = 1000\n",
    "    for i in range(0,n_flip):\n",
    "        idx = random.randint(0,instance_number-1)\n",
    "        items_selected[idx] = int(not items_selected[idx]) \n",
    "    while max_eval >0:\n",
    "        total_value = np.dot(values,items_selected)\n",
    "        total_weight = np.dot(weights,items_selected)\n",
    "        if total_weight <= max_capacity:\n",
    "            if total_value > best_value:\n",
    "                best_value = total_value\n",
    "                lst_best_value.append(best_value)\n",
    "        max_eval -=1\n",
    "    num_inter -= 1\n",
    "print lst_best_value\n",
    "print \"best value = \",max(lst_best_value)"
   ]
  },
  {
   "cell_type": "code",
   "execution_count": 34,
   "metadata": {
    "collapsed": false
   },
   "outputs": [
    {
     "data": {
      "text/plain": [
       "<function matplotlib.pyplot.show>"
      ]
     },
     "execution_count": 34,
     "metadata": {},
     "output_type": "execute_result"
    },
    {
     "data": {
      "image/png": "[encoded data removed]",
      "text/plain": [
       "<matplotlib.figure.Figure at 0xd22ddd8>"
      ]
     },
     "metadata": {},
     "output_type": "display_data"
    }
   ],
   "source": [
    "%matplotlib inline\n",
    "import matplotlib.pyplot as plt\n",
    "plt.plot(list(xrange(0,len(lst_best_value))),lst_best_value)\n",
    "plt.show"
   ]
  },
  {
   "cell_type": "code",
   "execution_count": null,
   "metadata": {
    "collapsed": true
   },
   "outputs": [],
   "source": []
  },
  {
   "cell_type": "code",
   "execution_count": null,
   "metadata": {
    "collapsed": true
   },
   "outputs": [],
   "source": []
  }
 ],
 "metadata": {
  "kernelspec": {
   "display_name": "Python 2",
   "language": "python",
   "name": "python2"
  },
  "language_info": {
   "codemirror_mode": {
    "name": "ipython",
    "version": 2
   },
   "file_extension": ".py",
   "mimetype": "text/x-python",
   "name": "python",
   "nbconvert_exporter": "python",
   "pygments_lexer": "ipython2",
   "version": "2.7.10"
  }
 },
 "nbformat": 4,
 "nbformat_minor": 0
}
